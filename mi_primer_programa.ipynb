{
 "cells": [
  {
   "cell_type": "markdown",
   "id": "af45efd8",
   "metadata": {},
   "source": [
    "# Mi Primer Programa - Jupyter Notebook\n",
    "\n",
    "Este notebook está diseñado para ayudarte a escribir tu primer programa en diferentes lenguajes de programación. En cada caso, se te proporcionará un ejemplo de código que puedes ejecutar directamente en tu entorno de programación.\n",
    "\n",
    "### Tareas:\n",
    "1. **Escribir el programa**: Crea un programa sencillo que muestre tus datos personales (nombre, edad, etc.) y un saludo en pantalla.\n",
    "2. **Corregir el programa**: Revisa y corrige cualquier error que aparezca durante la escritura del código.\n",
    "3. **Ejecutar el programa**: Ejecuta el programa en tu entorno de desarrollo y asegúrate de que funciona correctamente."
   ]
  },
  {
   "cell_type": "markdown",
   "id": "2bea8c84",
   "metadata": {},
   "source": [
    "## Ejemplo en C (Guardar como archivo `mi_programa.c`):"
   ]
  },
  {
   "cell_type": "code",
   "execution_count": null,
   "id": "0ca34ca4",
   "metadata": {},
   "outputs": [],
   "source": [
    "#include <stdio.h>\n",
    "\n",
    "int main() {\n",
    "    printf(\"Nombre: Juan Pérez\\n\");\n",
    "    printf(\"Edad: 20 años\\n\");\n",
    "    printf(\"Saludo: ¡Hola, bienvenido al mundo de la programación!\\n\");\n",
    "    return 0;\n",
    "}"
   ]
  },
  {
   "cell_type": "markdown",
   "id": "e8ebe6c5",
   "metadata": {},
   "source": [
    "**Instrucciones**:\n",
    "- Compilar usando el compilador `gcc`:\n",
    "  ```bash\n",
    "  gcc mi_programa.c -o mi_programa\n",
    "  ```\n",
    "- Ejecutar:\n",
    "  ```bash\n",
    "  ./mi_programa\n",
    "  ```"
   ]
  },
  {
   "cell_type": "markdown",
   "id": "f404e995",
   "metadata": {},
   "source": [
    "## Ejemplo en Java (Guardar como archivo `MiPrograma.java`):"
   ]
  },
  {
   "cell_type": "code",
   "execution_count": null,
   "id": "2ebbf542",
   "metadata": {},
   "outputs": [],
   "source": [
    "public class MiPrograma {\n",
    "    public static void main(String[] args) {\n",
    "        System.out.println(\"Nombre: Juan Pérez\");\n",
    "        System.out.println(\"Edad: 20 años\");\n",
    "        System.out.println(\"Saludo: ¡Hola, bienvenido al mundo de la programación!\");\n",
    "    }\n",
    "}"
   ]
  },
  {
   "cell_type": "markdown",
   "id": "193595d0",
   "metadata": {},
   "source": [
    "**Instrucciones**:\n",
    "- Compilar usando `javac`:\n",
    "  ```bash\n",
    "  javac MiPrograma.java\n",
    "  ```\n",
    "- Ejecutar:\n",
    "  ```bash\n",
    "  java MiPrograma\n",
    "  ```"
   ]
  },
  {
   "cell_type": "markdown",
   "id": "f5662f15",
   "metadata": {},
   "source": [
    "## Ejemplo en Python (Guardar como archivo `mi_programa.py`):"
   ]
  },
  {
   "cell_type": "code",
   "execution_count": null,
   "id": "88684bd9",
   "metadata": {},
   "outputs": [],
   "source": [
    "# Mi primer programa en Python\n",
    "print(\"Nombre: Juan Pérez\")\n",
    "print(\"Edad: 20 años\")\n",
    "print(\"Saludo: ¡Hola, bienvenido al mundo de la programación!\")"
   ]
  },
  {
   "cell_type": "markdown",
   "id": "e3770436",
   "metadata": {},
   "source": [
    "**Instrucciones**:\n",
    "- Ejecutar usando Python:\n",
    "  ```bash\n",
    "  python mi_programa.py\n",
    "  ```"
   ]
  },
  {
   "cell_type": "markdown",
   "id": "47170620",
   "metadata": {},
   "source": [
    "## Ejemplo en HTML y JavaScript (Guardar como archivo `mi_programa.html`):"
   ]
  },
  {
   "cell_type": "code",
   "execution_count": null,
   "id": "95acf259",
   "metadata": {},
   "outputs": [],
   "source": [
    "<!DOCTYPE html>\n",
    "<html>\n",
    "<head>\n",
    "    <title>Mi Primer Programa</title>\n",
    "</head>\n",
    "<body>\n",
    "    <h1>Datos personales</h1>\n",
    "    <p>Nombre: Juan Pérez</p>\n",
    "    <p>Edad: 20 años</p>\n",
    "    <p>Saludo: <span id=\"saludo\"></span></p>\n",
    "\n",
    "    <script>\n",
    "        document.getElementById(\"saludo\").textContent = \"¡Hola, bienvenido al mundo de la programación!\";\n",
    "    </script>\n",
    "</body>\n",
    "</html>"
   ]
  },
  {
   "cell_type": "markdown",
   "id": "9d1ac9c2",
   "metadata": {},
   "source": [
    "**Instrucciones**:\n",
    "- Abrir el archivo en un navegador web."
   ]
  },
  {
   "cell_type": "markdown",
   "id": "13bfd29e",
   "metadata": {},
   "source": [
    "## Ejemplo en Pascal (Guardar como archivo `mi_programa.pas`):"
   ]
  },
  {
   "cell_type": "code",
   "execution_count": null,
   "id": "90dfcb83",
   "metadata": {},
   "outputs": [],
   "source": [
    "program MiPrograma;\n",
    "begin\n",
    "  writeln(\"Nombre: Juan Pérez\");\n",
    "  writeln(\"Edad: 20 años\");\n",
    "  writeln(\"Saludo: ¡Hola, bienvenido al mundo de la programación!\");\n",
    "end."
   ]
  },
  {
   "cell_type": "markdown",
   "id": "2964a2bb",
   "metadata": {},
   "source": [
    "**Instrucciones**:\n",
    "- Compilar usando Free Pascal:\n",
    "  ```bash\n",
    "  fpc mi_programa.pas\n",
    "  ```\n",
    "- Ejecutar:\n",
    "  ```bash\n",
    "  ./mi_programa\n",
    "  ```"
   ]
  }
 ],
 "metadata": {},
 "nbformat": 4,
 "nbformat_minor": 5
}
